{
 "cells": [
  {
   "cell_type": "code",
   "execution_count": 2,
   "metadata": {},
   "outputs": [],
   "source": [
    "from Linear_Model_Creation_Function import OLS_Model_Creation\n",
    "\n",
    "lin_reg, X_train, y_train = OLS_Model_Creation(path = './data/kaggle/created/homes_grouped.csv',\n",
    "                                                              include_variables='num_and_chosen_upgradable') \n"
   ]
  },
  {
   "cell_type": "code",
   "execution_count": 3,
   "metadata": {},
   "outputs": [
    {
     "name": "stdout",
     "output_type": "stream",
     "text": [
      "ordinary linear regression score on the training data: 0.8130455745328505 \n",
      "\n",
      "ordinary linear regression intercept: 2658728.4289780483 \n",
      "\n",
      "Head \n",
      "                   Coefficients\n",
      "KitchenQual_Ex    48289.105408\n",
      "OverallQual       19160.014719\n",
      "FullBath          17170.073923\n",
      "BsmtFinType1_GLQ  12406.349380\n",
      "Fireplaces        11999.097365\n",
      "BsmtFullBath      11300.619120\n",
      "HalfBath          10312.091393\n",
      "KitchenQual_Gd     9168.114107\n",
      "BedroomAbvGr       4624.965553\n",
      "KitchenAbvGr       2517.663175\n",
      "OverallCond        2272.172101\n",
      "YearRemodAdd        196.624864\n",
      "MoSold              173.996367\n",
      "3SsnPorch            51.514035\n",
      "GarageArea           50.241590 \n",
      "\n",
      "Tail \n",
      "                           Coefficients\n",
      "3SsnPorch                    51.514035\n",
      "GarageArea                   50.241590\n",
      "ScreenPorch                  49.547542\n",
      "WoodDeckSF                   43.753823\n",
      "OpenPorchSF                  32.613824\n",
      "MasVnrArea                   24.811178\n",
      "EnclosedPorch                 9.424378\n",
      "LotArea                       0.639100\n",
      "MiscVal                       0.149163\n",
      "LotFrontage                 -22.496137\n",
      "BsmtFinType1_ALQ           -148.675218\n",
      "MSSubClass                 -178.442920\n",
      "BsmtHalfBath              -1087.309650\n",
      "BsmtFinType1_No_basement  -1246.259018\n",
      "YrSold                    -1542.648130 \n",
      "\n"
     ]
    }
   ],
   "source": [
    "import pandas as pd\n",
    "import numpy as np\n",
    "\n",
    "print(f'ordinary linear regression score on the training data: {lin_reg.score(X_train, y_train)}', '\\n')  \n",
    "\n",
    "print(f'ordinary linear regression intercept: {(lin_reg.intercept_) }', '\\n')\n",
    "coefficients = pd.DataFrame((lin_reg.coef_), X_train.columns, columns = ['Coefficients']).sort_values(by = 'Coefficients', ascending = False)   \n",
    "\n",
    "print('Head \\n', coefficients.head(15), '\\n')\n",
    "print('Tail \\n', coefficients.tail(15), '\\n')"
   ]
  },
  {
   "cell_type": "code",
   "execution_count": 5,
   "metadata": {},
   "outputs": [],
   "source": [
    "coefficients.to_csv('coefficients.csv', index=False)"
   ]
  },
  {
   "cell_type": "code",
   "execution_count": null,
   "metadata": {},
   "outputs": [],
   "source": []
  },
  {
   "cell_type": "code",
   "execution_count": null,
   "metadata": {},
   "outputs": [],
   "source": []
  },
  {
   "cell_type": "code",
   "execution_count": null,
   "metadata": {},
   "outputs": [],
   "source": []
  },
  {
   "cell_type": "code",
   "execution_count": null,
   "metadata": {},
   "outputs": [],
   "source": []
  },
  {
   "cell_type": "code",
   "execution_count": null,
   "metadata": {},
   "outputs": [],
   "source": []
  },
  {
   "cell_type": "code",
   "execution_count": null,
   "metadata": {},
   "outputs": [],
   "source": []
  }
 ],
 "metadata": {
  "kernelspec": {
   "display_name": "Python 3",
   "language": "python",
   "name": "python3"
  },
  "language_info": {
   "codemirror_mode": {
    "name": "ipython",
    "version": 3
   },
   "file_extension": ".py",
   "mimetype": "text/x-python",
   "name": "python",
   "nbconvert_exporter": "python",
   "pygments_lexer": "ipython3",
   "version": "3.7.6"
  }
 },
 "nbformat": 4,
 "nbformat_minor": 4
}
