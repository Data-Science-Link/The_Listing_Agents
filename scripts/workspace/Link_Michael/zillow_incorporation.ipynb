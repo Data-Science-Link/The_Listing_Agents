{
 "cells": [
  {
   "cell_type": "markdown",
   "metadata": {},
   "source": [
    "### Import relevant libraries"
   ]
  },
  {
   "cell_type": "code",
   "execution_count": 1,
   "metadata": {},
   "outputs": [],
   "source": [
    "import pandas as pd"
   ]
  },
  {
   "cell_type": "markdown",
   "metadata": {},
   "source": [
    "### Read data using relative paths"
   ]
  },
  {
   "cell_type": "code",
   "execution_count": 2,
   "metadata": {},
   "outputs": [],
   "source": [
    "from read_path_module import read_data_relative_path\n",
    "\n",
    "zillow = read_data_relative_path(relative_dataset_path = './data/zillow/Neighborhood_Zhvi_AllHomes.csv',\n",
    "                        data_type='csv'\n",
    "                       )\n",
    "\n",
    "train = read_data_relative_path(relative_dataset_path = './data/kaggle/train.csv',\n",
    "                        data_type='csv'\n",
    "                       )\n",
    "\n",
    "lookup = read_data_relative_path(relative_dataset_path = './data/zillow/created/Neighborhoods_Zip_Code_Lookup.xlsx',\n",
    "                        data_type='excel',\n",
    "                        supress='y',\n",
    "                        sheet=0)"
   ]
  },
  {
   "cell_type": "markdown",
   "metadata": {},
   "source": [
    "### Filter down to Ames neighborhoods and only look at most recent price estimate"
   ]
  },
  {
   "cell_type": "code",
   "execution_count": 3,
   "metadata": {
    "scrolled": true
   },
   "outputs": [
    {
     "data": {
      "text/html": [
       "<div>\n",
       "<style scoped>\n",
       "    .dataframe tbody tr th:only-of-type {\n",
       "        vertical-align: middle;\n",
       "    }\n",
       "\n",
       "    .dataframe tbody tr th {\n",
       "        vertical-align: top;\n",
       "    }\n",
       "\n",
       "    .dataframe thead th {\n",
       "        text-align: right;\n",
       "    }\n",
       "</style>\n",
       "<table border=\"1\" class=\"dataframe\">\n",
       "  <thead>\n",
       "    <tr style=\"text-align: right;\">\n",
       "      <th></th>\n",
       "      <th>RegionName</th>\n",
       "      <th>2020-04-30</th>\n",
       "    </tr>\n",
       "  </thead>\n",
       "  <tbody>\n",
       "    <tr>\n",
       "      <th>3272</th>\n",
       "      <td>South Campus Area</td>\n",
       "      <td>251160.0</td>\n",
       "    </tr>\n",
       "    <tr>\n",
       "      <th>9832</th>\n",
       "      <td>Somerset Village</td>\n",
       "      <td>287790.0</td>\n",
       "    </tr>\n",
       "    <tr>\n",
       "      <th>11036</th>\n",
       "      <td>Northridge</td>\n",
       "      <td>375377.0</td>\n",
       "    </tr>\n",
       "  </tbody>\n",
       "</table>\n",
       "</div>"
      ],
      "text/plain": [
       "              RegionName  2020-04-30\n",
       "3272   South Campus Area    251160.0\n",
       "9832    Somerset Village    287790.0\n",
       "11036         Northridge    375377.0"
      ]
     },
     "execution_count": 3,
     "metadata": {},
     "output_type": "execute_result"
    }
   ],
   "source": [
    "Ames = zillow[zillow['State'] == 'IA']\n",
    "Ames = Ames[Ames['City'] == 'Ames']\n",
    "Ames = Ames[['RegionName', '2020-04-30']]\n",
    "\n",
    "Ames.head(3)"
   ]
  },
  {
   "cell_type": "markdown",
   "metadata": {},
   "source": [
    "### Merge the neighborhood name lookup table and zillow price estimates"
   ]
  },
  {
   "cell_type": "code",
   "execution_count": 4,
   "metadata": {
    "scrolled": true
   },
   "outputs": [
    {
     "data": {
      "text/html": [
       "<div>\n",
       "<style scoped>\n",
       "    .dataframe tbody tr th:only-of-type {\n",
       "        vertical-align: middle;\n",
       "    }\n",
       "\n",
       "    .dataframe tbody tr th {\n",
       "        vertical-align: top;\n",
       "    }\n",
       "\n",
       "    .dataframe thead th {\n",
       "        text-align: right;\n",
       "    }\n",
       "</style>\n",
       "<table border=\"1\" class=\"dataframe\">\n",
       "  <thead>\n",
       "    <tr style=\"text-align: right;\">\n",
       "      <th></th>\n",
       "      <th>Neighborhood</th>\n",
       "      <th>Full_Name_Hood</th>\n",
       "      <th>Zillow_Name_Hood</th>\n",
       "      <th>County</th>\n",
       "      <th>Zip_Code</th>\n",
       "      <th>Most_Recent_Price</th>\n",
       "    </tr>\n",
       "  </thead>\n",
       "  <tbody>\n",
       "    <tr>\n",
       "      <th>0</th>\n",
       "      <td>CollgCr</td>\n",
       "      <td>College Creek</td>\n",
       "      <td>College Creek-Old Ames</td>\n",
       "      <td>Story</td>\n",
       "      <td>50014</td>\n",
       "      <td>163880.0</td>\n",
       "    </tr>\n",
       "    <tr>\n",
       "      <th>1</th>\n",
       "      <td>Veenker</td>\n",
       "      <td>Veenker</td>\n",
       "      <td>NaN</td>\n",
       "      <td>Story</td>\n",
       "      <td>50010</td>\n",
       "      <td>NaN</td>\n",
       "    </tr>\n",
       "    <tr>\n",
       "      <th>2</th>\n",
       "      <td>Crawfor</td>\n",
       "      <td>Crawford</td>\n",
       "      <td>NaN</td>\n",
       "      <td>Story</td>\n",
       "      <td>50014</td>\n",
       "      <td>NaN</td>\n",
       "    </tr>\n",
       "  </tbody>\n",
       "</table>\n",
       "</div>"
      ],
      "text/plain": [
       "  Neighborhood Full_Name_Hood        Zillow_Name_Hood County  Zip_Code  \\\n",
       "0      CollgCr  College Creek  College Creek-Old Ames  Story     50014   \n",
       "1      Veenker        Veenker                     NaN  Story     50010   \n",
       "2      Crawfor       Crawford                     NaN  Story     50014   \n",
       "\n",
       "   Most_Recent_Price  \n",
       "0           163880.0  \n",
       "1                NaN  \n",
       "2                NaN  "
      ]
     },
     "execution_count": 4,
     "metadata": {},
     "output_type": "execute_result"
    }
   ],
   "source": [
    "Ames_Zillow_Prices = lookup.merge(Ames, how='left', left_on='Zillow_Name_Hood', right_on='RegionName')\n",
    "Ames_Zillow_Prices = Ames_Zillow_Prices.rename({'2020-04-30': 'Most_Recent_Price'}, axis=1)\n",
    "Ames_Zillow_Prices = Ames_Zillow_Prices.drop(['Source', 'RegionName'], axis=1)\n",
    "Ames_Zillow_Prices.head(3)"
   ]
  },
  {
   "cell_type": "markdown",
   "metadata": {},
   "source": [
    "### Clean up dataframe in preparation of writing to a csv"
   ]
  },
  {
   "cell_type": "code",
   "execution_count": 5,
   "metadata": {
    "scrolled": true
   },
   "outputs": [
    {
     "data": {
      "text/html": [
       "<div>\n",
       "<style scoped>\n",
       "    .dataframe tbody tr th:only-of-type {\n",
       "        vertical-align: middle;\n",
       "    }\n",
       "\n",
       "    .dataframe tbody tr th {\n",
       "        vertical-align: top;\n",
       "    }\n",
       "\n",
       "    .dataframe thead th {\n",
       "        text-align: right;\n",
       "    }\n",
       "</style>\n",
       "<table border=\"1\" class=\"dataframe\">\n",
       "  <thead>\n",
       "    <tr style=\"text-align: right;\">\n",
       "      <th></th>\n",
       "      <th>Neighborhood</th>\n",
       "      <th>Most_Recent_Price</th>\n",
       "    </tr>\n",
       "  </thead>\n",
       "  <tbody>\n",
       "    <tr>\n",
       "      <th>0</th>\n",
       "      <td>CollgCr</td>\n",
       "      <td>163880.0</td>\n",
       "    </tr>\n",
       "    <tr>\n",
       "      <th>1</th>\n",
       "      <td>Veenker</td>\n",
       "      <td>NaN</td>\n",
       "    </tr>\n",
       "    <tr>\n",
       "      <th>2</th>\n",
       "      <td>Crawfor</td>\n",
       "      <td>NaN</td>\n",
       "    </tr>\n",
       "    <tr>\n",
       "      <th>3</th>\n",
       "      <td>NoRidge</td>\n",
       "      <td>375377.0</td>\n",
       "    </tr>\n",
       "    <tr>\n",
       "      <th>4</th>\n",
       "      <td>Mitchel</td>\n",
       "      <td>199737.0</td>\n",
       "    </tr>\n",
       "  </tbody>\n",
       "</table>\n",
       "</div>"
      ],
      "text/plain": [
       "  Neighborhood  Most_Recent_Price\n",
       "0      CollgCr           163880.0\n",
       "1      Veenker                NaN\n",
       "2      Crawfor                NaN\n",
       "3      NoRidge           375377.0\n",
       "4      Mitchel           199737.0"
      ]
     },
     "execution_count": 5,
     "metadata": {},
     "output_type": "execute_result"
    }
   ],
   "source": [
    "Ames_Zillow_Prices = Ames_Zillow_Prices.drop(['Full_Name_Hood', 'Zillow_Name_Hood', 'County', 'Zip_Code'], axis=1)\n",
    "Ames_Zillow_Prices.head(5)"
   ]
  },
  {
   "cell_type": "markdown",
   "metadata": {},
   "source": [
    "### Write to csv using relative paths"
   ]
  },
  {
   "cell_type": "code",
   "execution_count": 6,
   "metadata": {},
   "outputs": [],
   "source": [
    "from write_path_module import write_data_relative_path\n",
    "\n",
    "write_data_relative_path(df = Ames_Zillow_Prices,\n",
    "                         relative_dataset_path = './data/zillow/created/zillow_prices_by_neighborhood.csv',\n",
    "                         data_type='csv'\n",
    "                        )"
   ]
  }
 ],
 "metadata": {
  "kernelspec": {
   "display_name": "Python 3",
   "language": "python",
   "name": "python3"
  },
  "language_info": {
   "codemirror_mode": {
    "name": "ipython",
    "version": 3
   },
   "file_extension": ".py",
   "mimetype": "text/x-python",
   "name": "python",
   "nbconvert_exporter": "python",
   "pygments_lexer": "ipython3",
   "version": "3.7.6"
  }
 },
 "nbformat": 4,
 "nbformat_minor": 4
}
