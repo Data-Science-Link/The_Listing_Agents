{
 "cells": [
  {
   "cell_type": "code",
   "execution_count": 16,
   "metadata": {},
   "outputs": [],
   "source": [
    "def read_data_relative_path(relative_dataset_path, data_type='csv'):\n",
    "    '''\n",
    "    This function offers a method to read in data that is stored in parent directory.\n",
    "    Kind of like your second cousin dataset.\n",
    "    This is configured for the directory wihtin each team members 'workspace'\n",
    "    '''\n",
    "    # Import relevant libraries\n",
    "    import pandas as pd\n",
    "    import os\n",
    "    \n",
    "    # Store current working directory as a string\n",
    "    original_wd = os.getcwd() # this should be where this notebook is saved\n",
    "    \n",
    "    # Print current working directory \n",
    "    print('Original working directory is ', os.path.abspath(os.curdir), '\\n')\n",
    "    os.chdir(\"..\") # Move up one directory to 'workspace'\n",
    "    os.chdir(\"..\") # Move up one directory to 'scripts'\n",
    "    os.chdir(\"..\") # Move up one directory to 'Main Project Directory'\n",
    "    print('Working directory is now ', os.path.abspath(os.curdir), '\\n')\n",
    "    \n",
    "    # Reading relative dataset\n",
    "    if data_type=='csv':\n",
    "        df = pd.read_csv(relative_dataset_path)\n",
    "    elif data_type=='excel':\n",
    "        df = pd.read_excel(relative_dataset_path)\n",
    "    \n",
    "    # Going back to original working directory\n",
    "    os.chdir(original_wd)\n",
    "    print('We are back to the original working directory ', os.path.abspath(os.curdir), '\\n')\n",
    "    \n",
    "    return df"
   ]
  }
 ],
 "metadata": {
  "kernelspec": {
   "display_name": "Python 3",
   "language": "python",
   "name": "python3"
  },
  "language_info": {
   "codemirror_mode": {
    "name": "ipython",
    "version": 3
   },
   "file_extension": ".py",
   "mimetype": "text/x-python",
   "name": "python",
   "nbconvert_exporter": "python",
   "pygments_lexer": "ipython3",
   "version": "3.7.6"
  }
 },
 "nbformat": 4,
 "nbformat_minor": 4
}
