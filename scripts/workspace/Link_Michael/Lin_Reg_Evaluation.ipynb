{
 "cells": [
  {
   "cell_type": "code",
   "execution_count": 1,
   "metadata": {},
   "outputs": [],
   "source": [
    "from Linear_Model_Creation_Function import OLS_Model_Creation\n",
    "\n",
    "lin_reg, X_train, X_test, y_train, y_test = OLS_Model_Creation(path = './data/kaggle/created/homes_grouped.csv',\n",
    "                                                              include_variables='num_and_chosen_upgradable') \n"
   ]
  },
  {
   "cell_type": "code",
   "execution_count": 2,
   "metadata": {},
   "outputs": [
    {
     "name": "stdout",
     "output_type": "stream",
     "text": [
      "ordinary linear regression score on the training data: 0.8014019154308685 \n",
      "\n",
      "ordinary linear regression score on the test data: 0.8501155996144067 \n",
      "\n",
      "ordinary linear regression intercept: 2430813.205679779 \n",
      "\n",
      "Head \n",
      "                   Coefficients\n",
      "KitchenQual_Ex    47352.578511\n",
      "OverallQual       19591.950536\n",
      "FullBath          14360.575735\n",
      "Fireplaces        12806.749180\n",
      "KitchenQual_Gd    11110.010590\n",
      "BsmtFullBath      10865.968118\n",
      "BsmtFinType1_GLQ  10610.750923\n",
      "HalfBath           8845.252584\n",
      "BedroomAbvGr       5353.186913\n",
      "KitchenAbvGr       4865.200801\n",
      "OverallCond        1394.365469\n",
      "YearRemodAdd        227.634285\n",
      "ScreenPorch          54.934420\n",
      "WoodDeckSF           46.681055\n",
      "GarageArea           41.852432 \n",
      "\n",
      "Tail \n",
      "                           Coefficients\n",
      "WoodDeckSF                   46.681055\n",
      "GarageArea                   41.852432\n",
      "3SsnPorch                    38.232398\n",
      "MasVnrArea                   29.944353\n",
      "BsmtFinType1_ALQ             24.561579\n",
      "EnclosedPorch                18.486596\n",
      "OpenPorchSF                  12.750785\n",
      "LotArea                       0.732261\n",
      "MiscVal                      -1.099558\n",
      "LotFrontage                 -14.990440\n",
      "MoSold                      -17.685722\n",
      "MSSubClass                 -164.830823\n",
      "BsmtHalfBath              -1372.615463\n",
      "BsmtFinType1_No_basement  -1387.391073\n",
      "YrSold                    -1457.474268 \n",
      "\n"
     ]
    }
   ],
   "source": [
    "import pandas as pd\n",
    "import numpy as np\n",
    "\n",
    "print(f'ordinary linear regression score on the training data: {lin_reg.score(X_train, y_train)}', '\\n')  \n",
    "print(f'ordinary linear regression score on the test data: {lin_reg.score(X_test, y_test)}', '\\n')  \n",
    "print(f'ordinary linear regression intercept: {(lin_reg.intercept_) }', '\\n')\n",
    "coefficients = pd.DataFrame((lin_reg.coef_), X_train.columns, columns = ['Coefficients']).sort_values(by = 'Coefficients', ascending = False)   \n",
    "# coefficients['Percent_Change'] = 100 * (coefficients['Coefficients'] - 1)\n",
    "print('Head \\n', coefficients.head(15), '\\n')\n",
    "print('Tail \\n', coefficients.tail(15), '\\n')"
   ]
  },
  {
   "cell_type": "code",
   "execution_count": null,
   "metadata": {},
   "outputs": [],
   "source": []
  },
  {
   "cell_type": "code",
   "execution_count": 3,
   "metadata": {},
   "outputs": [],
   "source": [
    "coefficients.to_csv('coefficients.csv')"
   ]
  },
  {
   "cell_type": "code",
   "execution_count": null,
   "metadata": {},
   "outputs": [],
   "source": []
  },
  {
   "cell_type": "code",
   "execution_count": null,
   "metadata": {},
   "outputs": [],
   "source": []
  },
  {
   "cell_type": "code",
   "execution_count": null,
   "metadata": {},
   "outputs": [],
   "source": []
  },
  {
   "cell_type": "code",
   "execution_count": null,
   "metadata": {},
   "outputs": [],
   "source": []
  },
  {
   "cell_type": "code",
   "execution_count": null,
   "metadata": {},
   "outputs": [],
   "source": []
  },
  {
   "cell_type": "code",
   "execution_count": null,
   "metadata": {},
   "outputs": [],
   "source": []
  }
 ],
 "metadata": {
  "kernelspec": {
   "display_name": "Python 3",
   "language": "python",
   "name": "python3"
  },
  "language_info": {
   "codemirror_mode": {
    "name": "ipython",
    "version": 3
   },
   "file_extension": ".py",
   "mimetype": "text/x-python",
   "name": "python",
   "nbconvert_exporter": "python",
   "pygments_lexer": "ipython3",
   "version": "3.7.6"
  }
 },
 "nbformat": 4,
 "nbformat_minor": 4
}
