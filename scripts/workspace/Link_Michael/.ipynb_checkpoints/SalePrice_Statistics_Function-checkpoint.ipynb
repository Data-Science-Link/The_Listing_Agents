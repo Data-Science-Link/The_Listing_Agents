{
 "cells": [
  {
   "cell_type": "code",
   "execution_count": 1,
   "metadata": {},
   "outputs": [],
   "source": [
    "import pandas as pd\n",
    "import numpy as np"
   ]
  },
  {
   "cell_type": "markdown",
   "metadata": {},
   "source": [
    "### Import training dataset"
   ]
  },
  {
   "cell_type": "code",
   "execution_count": 2,
   "metadata": {
    "scrolled": true
   },
   "outputs": [],
   "source": [
    "from read_path_module import read_data_relative_path\n",
    "\n",
    "train = read_data_relative_path(relative_dataset_path = './data/kaggle/train.csv',\n",
    "                                data_type='csv')"
   ]
  },
  {
   "cell_type": "markdown",
   "metadata": {},
   "source": [
    "### Create function to add mean, median, and std columns related to SalePrice by neighborhood"
   ]
  },
  {
   "cell_type": "code",
   "execution_count": 3,
   "metadata": {},
   "outputs": [],
   "source": [
    "\n",
    "def Add_SalePrice_Columns(df, difference_method = 'median'):\n",
    "    \n",
    "    '''\n",
    "    This function takes in a the Ames, Iowa training dataset as a pandas dataframe and outputs:\n",
    "        - A dataframe with 4 additional columns\n",
    "            1. Mean SalePrice of homes in a given neighborhood\n",
    "            2. Median SalePrice of homes in a given neighborhood\n",
    "            3. Standard deviation of SalePrice of homes in a given neighborhood\n",
    "            4. The difference between SalePrice of individual home and the \n",
    "                aggregagted (mean or median) price of all homes in a given neighborhood.\n",
    "                (-) If delta is negative -> the home is cheaper than most in the neighborhood\n",
    "                (+) If delta is positive -> the home is more expensive than most in the neighborhood \n",
    "    '''\n",
    "    \n",
    "    # Creating a list of unique neighborhood names\n",
    "    hood_names = df['Neighborhood'].unique()\n",
    "\n",
    "    # Creating new numeric column\n",
    "    df['Sale_Price_by_Hood_Mean'] = np.nan\n",
    "    df['Sale_Price_by_Hood_Median'] = np.nan\n",
    "    df['Sale_Price_by_Hood_STD'] = np.nan\n",
    "\n",
    "    # for loop to create new statistical columns grouped by neighborhoods\n",
    "    for hood in hood_names:\n",
    "        intermediate_df = df[df['Neighborhood'] == hood]\n",
    "        mean = intermediate_df['SalePrice'].mean()\n",
    "        median = intermediate_df['SalePrice'].median()\n",
    "        STD = intermediate_df['SalePrice'].std()\n",
    "        df.loc[df['Neighborhood'] == hood, 'Sale_Price_by_Hood_Mean'] = round(mean)\n",
    "        df.loc[df['Neighborhood'] == hood, 'Sale_Price_by_Hood_Median'] = round(median)\n",
    "        df.loc[df['Neighborhood'] == hood, 'Sale_Price_by_Hood_STD'] = round(STD)\n",
    "        if difference_method == 'median':\n",
    "            df['Delta_Price_Hood'] = df['Sale_Price_by_Hood_Median'] - df['SalePrice']\n",
    "        else:\n",
    "            df['Delta_Price_Hood'] = df['Sale_Price_by_Hood_Mean'] - df['SalePrice']\n",
    "    \n",
    "    return df\n"
   ]
  },
  {
   "cell_type": "markdown",
   "metadata": {},
   "source": [
    "### Test to see if function works"
   ]
  },
  {
   "cell_type": "code",
   "execution_count": 4,
   "metadata": {},
   "outputs": [
    {
     "data": {
      "text/html": [
       "<div>\n",
       "<style scoped>\n",
       "    .dataframe tbody tr th:only-of-type {\n",
       "        vertical-align: middle;\n",
       "    }\n",
       "\n",
       "    .dataframe tbody tr th {\n",
       "        vertical-align: top;\n",
       "    }\n",
       "\n",
       "    .dataframe thead th {\n",
       "        text-align: right;\n",
       "    }\n",
       "</style>\n",
       "<table border=\"1\" class=\"dataframe\">\n",
       "  <thead>\n",
       "    <tr style=\"text-align: right;\">\n",
       "      <th></th>\n",
       "      <th>Sale_Price_by_Hood_Mean</th>\n",
       "      <th>Sale_Price_by_Hood_Median</th>\n",
       "      <th>Sale_Price_by_Hood_STD</th>\n",
       "      <th>Delta_Price_Hood</th>\n",
       "    </tr>\n",
       "  </thead>\n",
       "  <tbody>\n",
       "    <tr>\n",
       "      <th>0</th>\n",
       "      <td>197966.0</td>\n",
       "      <td>197200.0</td>\n",
       "      <td>51404.0</td>\n",
       "      <td>-11300.0</td>\n",
       "    </tr>\n",
       "    <tr>\n",
       "      <th>1</th>\n",
       "      <td>238773.0</td>\n",
       "      <td>218000.0</td>\n",
       "      <td>72369.0</td>\n",
       "      <td>36500.0</td>\n",
       "    </tr>\n",
       "    <tr>\n",
       "      <th>2</th>\n",
       "      <td>197966.0</td>\n",
       "      <td>197200.0</td>\n",
       "      <td>51404.0</td>\n",
       "      <td>-26300.0</td>\n",
       "    </tr>\n",
       "    <tr>\n",
       "      <th>3</th>\n",
       "      <td>210625.0</td>\n",
       "      <td>200624.0</td>\n",
       "      <td>68866.0</td>\n",
       "      <td>60624.0</td>\n",
       "    </tr>\n",
       "    <tr>\n",
       "      <th>4</th>\n",
       "      <td>335295.0</td>\n",
       "      <td>301500.0</td>\n",
       "      <td>121413.0</td>\n",
       "      <td>51500.0</td>\n",
       "    </tr>\n",
       "  </tbody>\n",
       "</table>\n",
       "</div>"
      ],
      "text/plain": [
       "   Sale_Price_by_Hood_Mean  Sale_Price_by_Hood_Median  Sale_Price_by_Hood_STD  \\\n",
       "0                 197966.0                   197200.0                 51404.0   \n",
       "1                 238773.0                   218000.0                 72369.0   \n",
       "2                 197966.0                   197200.0                 51404.0   \n",
       "3                 210625.0                   200624.0                 68866.0   \n",
       "4                 335295.0                   301500.0                121413.0   \n",
       "\n",
       "   Delta_Price_Hood  \n",
       "0          -11300.0  \n",
       "1           36500.0  \n",
       "2          -26300.0  \n",
       "3           60624.0  \n",
       "4           51500.0  "
      ]
     },
     "execution_count": 4,
     "metadata": {},
     "output_type": "execute_result"
    }
   ],
   "source": [
    "test_df = Add_SalePrice_Columns(train, difference_method='median')\n",
    "test_df[test_df.columns[-4:]].head(5)"
   ]
  },
  {
   "cell_type": "code",
   "execution_count": null,
   "metadata": {},
   "outputs": [],
   "source": []
  }
 ],
 "metadata": {
  "kernelspec": {
   "display_name": "Python 3",
   "language": "python",
   "name": "python3"
  },
  "language_info": {
   "codemirror_mode": {
    "name": "ipython",
    "version": 3
   },
   "file_extension": ".py",
   "mimetype": "text/x-python",
   "name": "python",
   "nbconvert_exporter": "python",
   "pygments_lexer": "ipython3",
   "version": "3.7.6"
  }
 },
 "nbformat": 4,
 "nbformat_minor": 4
}
