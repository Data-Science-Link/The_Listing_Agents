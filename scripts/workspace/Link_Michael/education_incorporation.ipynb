{
 "cells": [
  {
   "cell_type": "markdown",
   "metadata": {},
   "source": [
    "# Incorporating Iowa educational data"
   ]
  },
  {
   "cell_type": "markdown",
   "metadata": {},
   "source": [
    "### Import relevant libraries"
   ]
  },
  {
   "cell_type": "code",
   "execution_count": 1,
   "metadata": {},
   "outputs": [],
   "source": [
    "import pandas as pd"
   ]
  },
  {
   "cell_type": "markdown",
   "metadata": {},
   "source": [
    "### Import English and Math proficiency rates for grades 3-8 and 10-11"
   ]
  },
  {
   "cell_type": "code",
   "execution_count": 2,
   "metadata": {},
   "outputs": [],
   "source": [
    "from read_path_module import read_data_relative_path # home grown function to read data above current directory\n",
    "\n",
    "ELA_IEP = read_data_relative_path(relative_dataset_path = './data/educate_iowa/2018-2019 ISASP Proficiency Rates by District and Grade_final_simplified.xlsx',\n",
    "                           data_type='excel',\n",
    "                           sheet='ELA'\n",
    "                          )\n",
    "Math_IEP = read_data_relative_path(relative_dataset_path = './data/educate_iowa/2018-2019 ISASP Proficiency Rates by District and Grade_final_simplified.xlsx',\n",
    "                           data_type='excel',\n",
    "                           sheet='Math'\n",
    "                          )"
   ]
  },
  {
   "cell_type": "markdown",
   "metadata": {},
   "source": [
    "### Import zip code and county lookup table for each of neighborhoods"
   ]
  },
  {
   "cell_type": "code",
   "execution_count": 3,
   "metadata": {},
   "outputs": [],
   "source": [
    "Hood_Lookup = read_data_relative_path(relative_dataset_path = './data/educate_iowa/created/Neighborhoods_Zip_Code_Lookup.xlsx',\n",
    "                                data_type='excel')"
   ]
  },
  {
   "cell_type": "markdown",
   "metadata": {},
   "source": [
    "### Filter each dataframe down to County Name and % Proficient"
   ]
  },
  {
   "cell_type": "code",
   "execution_count": 4,
   "metadata": {
    "scrolled": false
   },
   "outputs": [],
   "source": [
    "# Create list of Proficiency % column names\n",
    "cols_Proficiency_IEP = [col for col in ELA_IEP.columns if '% Proficient' in col]\n",
    "\n",
    "# Filter down to Ames School District and Select only columns of interest for ELA scores\n",
    "ELA_IEP = ELA_IEP.loc[ELA_IEP['District Name'] == 'Ames Comm School District']\n",
    "ELA_IEP = ELA_IEP[['County Name'] + cols_Proficiency_IEP]\n",
    "ELA_IEP = ELA_IEP.add_prefix('ELA ')\n",
    "\n",
    "# Filter down to Ames School District and Select only columns of interest for math scores\n",
    "Math_IEP = Math_IEP.loc[Math_IEP['District Name'] == 'Ames Comm School District']\n",
    "Math_IEP = Math_IEP[['County Name'] + cols_Proficiency_IEP]\n",
    "Math_IEP = Math_IEP.add_prefix('Math ')"
   ]
  },
  {
   "cell_type": "markdown",
   "metadata": {},
   "source": [
    "### Merge two tables so that we have proficiency by grade by county"
   ]
  },
  {
   "cell_type": "code",
   "execution_count": 12,
   "metadata": {},
   "outputs": [],
   "source": [
    "education_by_county_ELA = pd.merge(Hood_Lookup, ELA_IEP, how='left', left_on='County', right_on='ELA County Name')\n",
    "education_by_county = pd.merge(education_by_county_ELA, Math_IEP, how='left', left_on='County', right_on='Math County Name')"
   ]
  },
  {
   "cell_type": "markdown",
   "metadata": {},
   "source": [
    "### Export to csv"
   ]
  },
  {
   "cell_type": "code",
   "execution_count": 13,
   "metadata": {},
   "outputs": [],
   "source": [
    "# Create list of Proficiency % column names\n",
    "cols_Proficiency_IEP = [col for col in education_by_county.columns if '% Proficient' in col]\n",
    "\n",
    "# Average math and ela percentages\n",
    "education_by_county['Avg_Proficiency'] = education_by_county[cols_Proficiency_IEP].mean(axis=1)\n",
    "\n",
    "# Drop column name\n",
    "education_by_county = education_by_county.drop(['Source', 'ELA County Name', 'Math County Name'] + cols_Proficiency_IEP, axis=1)\n",
    "\n",
    "# Export to csv\n",
    "# education_by_county.to_csv('/Users/michaellink/Desktop/__NYCDSA/_Projects/Machine_Learning/data/educate_iowa/created/education_by_county.csv',\n",
    "#                           index = False)\n",
    "\n",
    "from write_path_module import write_data_relative_path\n",
    "\n",
    "write_data_relative_path(df = education_by_county,\n",
    "                         relative_dataset_path = './data/educate_iowa/created/education_by_county.csv'\n",
    "                        )"
   ]
  }
 ],
 "metadata": {
  "kernelspec": {
   "display_name": "Python 3",
   "language": "python",
   "name": "python3"
  },
  "language_info": {
   "codemirror_mode": {
    "name": "ipython",
    "version": 3
   },
   "file_extension": ".py",
   "mimetype": "text/x-python",
   "name": "python",
   "nbconvert_exporter": "python",
   "pygments_lexer": "ipython3",
   "version": "3.7.6"
  }
 },
 "nbformat": 4,
 "nbformat_minor": 4
}
